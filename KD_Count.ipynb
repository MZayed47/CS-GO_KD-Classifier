{
 "cells": [
  {
   "cell_type": "code",
   "execution_count": 1,
   "id": "db3c56f0",
   "metadata": {},
   "outputs": [
    {
     "name": "stderr",
     "output_type": "stream",
     "text": [
      "Using TensorFlow backend.\n"
     ]
    }
   ],
   "source": [
    "from keras.models import load_model\n",
    "from collections import deque\n",
    "import numpy as np\n",
    "import pickle\n",
    "import cv2\n",
    "import os"
   ]
  },
  {
   "cell_type": "code",
   "execution_count": 2,
   "id": "9d1e7d8c",
   "metadata": {},
   "outputs": [],
   "source": [
    "model = load_model(r\"KD_classification_model\\classification_model\")\n",
    "lb = pickle.loads(open(r\"KD_classification_model\\KD_classification_binarizer.pickle\",\"rb\").read())\n",
    "#video_output = r\"KD_classification_model\\classified_output.mp4\"\n",
    "\n",
    "mean = np.array([123.68, 116.779, 103.939][::1], dtype=\"float32\")\n",
    "queue = deque(maxlen=50)\n"
   ]
  },
  {
   "cell_type": "code",
   "execution_count": 3,
   "id": "88de8d47",
   "metadata": {},
   "outputs": [
    {
     "name": "stdout",
     "output_type": "stream",
     "text": [
      "All Frames Done\n",
      "Finalizing...\n",
      "Done\n"
     ]
    }
   ],
   "source": [
    "capture_video = cv2.VideoCapture(r\"KD_classification_model\\WhatsApp_Video.mp4\")\n",
    "writer = None\n",
    "(width, height) = (None, None)\n",
    "\n",
    "\n",
    "save_path = os.path.join(\"output_frames\", \"\")\n",
    "xx = 1\n",
    "yy = 0\n",
    "zz = 0\n",
    "\n",
    "\n",
    "while True:\n",
    "    (taken, frame) = capture_video.read()\n",
    "    \n",
    "    if not taken:\n",
    "        print(\"All Frames Done\")\n",
    "        break\n",
    "    if width is None or height is None:\n",
    "        (width, height) = frame.shape[:2]\n",
    "    \n",
    "    \n",
    "    # Keep a copy of the frame\n",
    "    output = frame.copy()\n",
    "    \n",
    "    frame = cv2.cvtColor(frame, cv2.COLOR_BGR2RGB)\n",
    "    frame = cv2.resize(frame, (224,224)).astype(\"float32\")\n",
    "    frame -= mean\n",
    "    \n",
    "    # Predict each frame\n",
    "    pred = model.predict(np.expand_dims(frame, axis=0))[0]\n",
    "    #print(pred)\n",
    "    \n",
    "    # Rolling Averaging the prediction\n",
    "    queue.append(pred)\n",
    "    result = np.array(queue).mean(axis=0)\n",
    "    i = np.argmax(result)\n",
    "    label = lb.classes_[i]\n",
    "    \n",
    "    #print(i)\n",
    "    \n",
    "    '''\n",
    "    # Count kill and death score\n",
    "    if (xx % 50 == 0):\n",
    "        if (i==0):\n",
    "            yy = yy+1\n",
    "        else:\n",
    "            zz = zz+1\n",
    "    '''\n",
    "    \n",
    "    # Count kill and death score\n",
    "    \n",
    "    if(xx % 500 == 0 and i==1):\n",
    "        zz = zz+1\n",
    "    \n",
    "    if(xx % 500 == 0 and i==0):\n",
    "        yy = yy+1\n",
    "    \n",
    "    \n",
    "    # Write the predicted lable on the original copied frame\n",
    "    text1 = \"Score : {}\".format(label)\n",
    "    cv2.putText(output, text1, (25,25), cv2.FONT_HERSHEY_SIMPLEX, 0.7, (255,0,0), 2)\n",
    "    text2 = \"Kill Count : {}\".format(zz)\n",
    "    cv2.putText(output, text2, (25,50), cv2.FONT_HERSHEY_SIMPLEX, 0.7, (255,0,0), 2)\n",
    "    text3 = \"Death Count : {}\".format(yy)\n",
    "    cv2.putText(output, text3, (25,75), cv2.FONT_HERSHEY_SIMPLEX, 0.7, (255,0,0), 2)\n",
    "    \n",
    "    \n",
    "    # Save the frames\n",
    "    filename = save_path + str(xx) + \".png\"\n",
    "    cv2.imwrite(filename, output)\n",
    "    xx = xx+1\n",
    "    \n",
    "    \n",
    "    # Show running frames\n",
    "    cv2.imshow(\"In progress frame by frame\", output)\n",
    "    \n",
    "    key = cv2.waitKey(1) & 0xFF\n",
    "        \n",
    "    if key == ord(\"q\"):\n",
    "        break\n",
    "    \n",
    "\n",
    "\n",
    "print(\"Finalizing...\")\n",
    "\n",
    "capture_video.release()\n",
    "cv2.destroyAllWindows()\n",
    "\n",
    "print(\"Done\")\n"
   ]
  },
  {
   "cell_type": "code",
   "execution_count": 4,
   "id": "7c6baffd",
   "metadata": {},
   "outputs": [],
   "source": [
    "# Create the output video\n",
    "\n",
    "import glob\n",
    "import re\n",
    " \n",
    "img_array = []\n",
    "numbers = re.compile(r'(\\d+)')\n",
    "\n",
    "def numericalSort(value):\n",
    "    parts = numbers.split(value)\n",
    "    parts[1::2] = map(int, parts[1::2])\n",
    "    return parts\n",
    "\n",
    "\n",
    "for filename in sorted(glob.glob('D:/Opus Project/output_frames/*.png'), key=numericalSort):\n",
    "    img = cv2.imread(filename)\n",
    "    height, width, layers = img.shape\n",
    "    size = (width,height)\n",
    "    img_array.append(img)\n",
    "\n",
    "\n",
    "out = cv2.VideoWriter('output_video.avi',cv2.VideoWriter_fourcc(*'DIVX'), 50, size)\n",
    " \n",
    "for i in range(len(img_array)):\n",
    "    out.write(img_array[i])\n",
    "\n",
    "out.release()\n"
   ]
  },
  {
   "cell_type": "code",
   "execution_count": null,
   "id": "bf046255",
   "metadata": {},
   "outputs": [],
   "source": []
  }
 ],
 "metadata": {
  "kernelspec": {
   "display_name": "Python 3",
   "language": "python",
   "name": "python3"
  },
  "language_info": {
   "codemirror_mode": {
    "name": "ipython",
    "version": 3
   },
   "file_extension": ".py",
   "mimetype": "text/x-python",
   "name": "python",
   "nbconvert_exporter": "python",
   "pygments_lexer": "ipython3",
   "version": "3.7.3"
  }
 },
 "nbformat": 4,
 "nbformat_minor": 5
}
