{
 "cells": [
  {
   "cell_type": "code",
   "execution_count": 1,
   "id": "db3c56f0",
   "metadata": {},
   "outputs": [
    {
     "name": "stderr",
     "output_type": "stream",
     "text": [
      "Using TensorFlow backend.\n"
     ]
    }
   ],
   "source": [
    "from keras.models import load_model\n",
    "from collections import deque\n",
    "import numpy as np\n",
    "import pickle\n",
    "import cv2\n"
   ]
  },
  {
   "cell_type": "code",
   "execution_count": 2,
   "id": "9d1e7d8c",
   "metadata": {},
   "outputs": [
    {
     "name": "stderr",
     "output_type": "stream",
     "text": [
      "C:\\Users\\HP\\Anaconda3\\lib\\site-packages\\sklearn\\base.py:315: UserWarning: Trying to unpickle estimator LabelBinarizer from version 0.24.1 when using version 0.24.2. This might lead to breaking code or invalid results. Use at your own risk.\n",
      "  UserWarning)\n"
     ]
    }
   ],
   "source": [
    "model = load_model(r\"KD_classification_model\\classification_model\")\n",
    "lb = pickle.loads(open(r\"KD_classification_model\\KD_classification_binarizer.pickle\",\"rb\").read())\n",
    "video_output = r\"KD_classification_model\\classified_output.avi\"\n",
    "\n",
    "mean = np.array([123.68, 116.779, 103.939][::1], dtype=\"float32\")\n",
    "queue = deque(maxlen=128)\n"
   ]
  },
  {
   "cell_type": "code",
   "execution_count": 3,
   "id": "88de8d47",
   "metadata": {},
   "outputs": [
    {
     "name": "stdout",
     "output_type": "stream",
     "text": [
      "Finalizing...\n"
     ]
    }
   ],
   "source": [
    "capture_video = cv2.VideoCapture(r\"KD_classification_model\\5D_5K.mp4\")\n",
    "writer = None\n",
    "(width, height) = (None, None)\n",
    "\n",
    "while True:\n",
    "    (taken, frame) = capture_video.read()\n",
    "    if not taken:\n",
    "        break\n",
    "    if width is None or height is None:\n",
    "        (width, height) = frame.shape[:2]\n",
    "    \n",
    "    output = frame.copy()\n",
    "    frame = cv2.cvtColor(frame, cv2.COLOR_BGR2RGB)\n",
    "    frame = cv2.resize(frame, (224,224)).astype(\"float32\")\n",
    "    frame -= mean\n",
    "    \n",
    "    pred = model.predict(np.expand_dims(frame, axis=0))[0]\n",
    "    \n",
    "    queue.append(pred)\n",
    "    result = np.array(queue).mean(axis=0)\n",
    "    i = np.argmax(result)\n",
    "    label = lb.classes_[i]\n",
    "    \n",
    "    \n",
    "    text = \"Score : {}\".format(label)\n",
    "    cv2.putText(output, text, (45,60), cv2.FONT_HERSHEY_SIMPLEX, 1, (255,0,0), 4)\n",
    "    \n",
    "    if writer is None:\n",
    "        fourcc = cv2.VideoWriter_fourcc(*\"MJPG\")\n",
    "        writer = cv2.VideoWriter(video_output, fourcc, 30, (width, height), True)\n",
    "    \n",
    "    writer.write(output)\n",
    "    cv2.imshow(\"In progress frame by frame\", output)\n",
    "    \n",
    "    key = cv2.waitKey(1) & 0xFF\n",
    "        \n",
    "    if key == ord(\"q\"):\n",
    "        break\n",
    "    \n",
    "\n",
    "print(\"Finalizing...\")\n",
    "writer.release()\n",
    "capture_video.release()\n",
    "\n"
   ]
  },
  {
   "cell_type": "code",
   "execution_count": null,
   "id": "7c6baffd",
   "metadata": {},
   "outputs": [],
   "source": []
  }
 ],
 "metadata": {
  "kernelspec": {
   "display_name": "Python 3",
   "language": "python",
   "name": "python3"
  },
  "language_info": {
   "codemirror_mode": {
    "name": "ipython",
    "version": 3
   },
   "file_extension": ".py",
   "mimetype": "text/x-python",
   "name": "python",
   "nbconvert_exporter": "python",
   "pygments_lexer": "ipython3",
   "version": "3.7.3"
  }
 },
 "nbformat": 4,
 "nbformat_minor": 5
}
