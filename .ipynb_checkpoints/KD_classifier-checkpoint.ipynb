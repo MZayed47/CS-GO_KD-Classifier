{
 "cells": [
  {
   "cell_type": "code",
   "execution_count": 1,
   "id": "d3675e01",
   "metadata": {},
   "outputs": [
    {
     "name": "stderr",
     "output_type": "stream",
     "text": [
      "Using TensorFlow backend.\n"
     ]
    }
   ],
   "source": [
    "import os\n",
    "import cv2\n",
    "import numpy as np\n",
    "\n",
    "from imutils import paths\n",
    "from sklearn.preprocessing import LabelBinarizer\n",
    "from sklearn.model_selection import train_test_split\n",
    "from keras.preprocessing.image import ImageDataGenerator\n"
   ]
  },
  {
   "cell_type": "code",
   "execution_count": 2,
   "id": "f5e86b58",
   "metadata": {},
   "outputs": [],
   "source": [
    "data_path = \"KD_data\"\n",
    "\n",
    "output_model = r\"KD_classification_model\\classification_model\"\n",
    "output_label_binarizer = r\"KD_classification_model\\label_binarizer\"\n",
    "\n",
    "#output_model = r\"kill_death_classification_model\\classification_model\"\n",
    "#output_label_binarizer = r\"kill_death_classification_model\\label_binarizer\""
   ]
  },
  {
   "cell_type": "code",
   "execution_count": 3,
   "id": "9d832f28",
   "metadata": {
    "scrolled": true
   },
   "outputs": [
    {
     "name": "stdout",
     "output_type": "stream",
     "text": [
      "Images are being loaded...\n",
      "Done.\n"
     ]
    }
   ],
   "source": [
    "KD_labels = set(['kill', 'death'])\n",
    "\n",
    "print('Images are being loaded...')\n",
    "\n",
    "path_to_images = list(paths.list_images(data_path))\n",
    "data = []\n",
    "labels = []\n",
    "\n",
    "for images in path_to_images:\n",
    "    label = images.split(os.path.sep)[-2]\n",
    "    if label not in KD_labels:\n",
    "        continue\n",
    "    image = cv2.imread(images)\n",
    "    image = cv2.cvtColor(image, cv2.COLOR_BGR2RGB)\n",
    "    image = cv2.resize(image, (224,224))\n",
    "    \n",
    "    data.append(image)\n",
    "    labels.append(label)\n",
    "\n",
    "\n",
    "print(\"Done.\")"
   ]
  },
  {
   "cell_type": "code",
   "execution_count": 5,
   "id": "a74208b6",
   "metadata": {},
   "outputs": [],
   "source": [
    "data = np.array(data)\n",
    "labels = np.array(labels)\n",
    "\n",
    "lb = LabelBinarizer()\n",
    "labels = lb.fit_transform(labels)\n"
   ]
  },
  {
   "cell_type": "code",
   "execution_count": 58,
   "id": "577d0879",
   "metadata": {},
   "outputs": [],
   "source": [
    "(X_train, X_test, Y_train, Y_test) = train_test_split(data, labels, test_size=0.25, stratify=labels, random_state=42)"
   ]
  },
  {
   "cell_type": "code",
   "execution_count": 59,
   "id": "178206a0",
   "metadata": {},
   "outputs": [],
   "source": [
    "train_Aug = ImageDataGenerator(\n",
    "    rotation_range=30,\n",
    "    zoom_range=0.15,\n",
    "    width_shift_range=0.2,\n",
    "    height_shift_range=0.2,\n",
    "    shear_range=0.15,\n",
    "    horizontal_flip=True,\n",
    "    fill_mode=\"nearest\"\n",
    ")\n",
    "\n",
    "valid_Aug = ImageDataGenerator()\n",
    "mean = np.array([123.68, 116.779, 103.939], dtype=\"float32\")\n",
    "\n",
    "train_Aug.mean = mean\n",
    "valid_Aug.mean = mean"
   ]
  },
  {
   "cell_type": "code",
   "execution_count": 60,
   "id": "2bd802a7",
   "metadata": {},
   "outputs": [],
   "source": [
    "# Model Libraries\n",
    "\n",
    "from keras.applications import ResNet50\n",
    "\n",
    "from keras.layers import Input\n",
    "from keras.layers.pooling import AveragePooling2D\n",
    "from keras.layers.core import Flatten, Dense, Dropout\n",
    "from keras.models import Model\n"
   ]
  },
  {
   "cell_type": "code",
   "execution_count": 61,
   "id": "d40c0bdf",
   "metadata": {},
   "outputs": [
    {
     "name": "stderr",
     "output_type": "stream",
     "text": [
      "C:\\Users\\HP\\Anaconda3\\lib\\site-packages\\keras_applications\\resnet50.py:265: UserWarning: The output shape of `ResNet50(include_top=False)` has been changed since Keras 2.2.0.\n",
      "  warnings.warn('The output shape of `ResNet50(include_top=False)` '\n"
     ]
    }
   ],
   "source": [
    "# Model\n",
    "\n",
    "base_model = ResNet50(weights=\"imagenet\", include_top=False, input_tensor=Input(shape=(224,224,3)))\n",
    "\n",
    "head_model = base_model.output\n",
    "head_model = AveragePooling2D(pool_size=(7,7))(head_model)\n",
    "head_model = Flatten(name=\"flatten\")(head_model)\n",
    "head_model = Dense(512, activation='relu')(head_model)\n",
    "head_model = Dropout(0.5)(head_model)\n",
    "head_model = Dense(len(lb.classes_), activation='softmax')(head_model)\n",
    "\n",
    "model = Model(inputs=base_model.input, outputs=head_model)\n",
    "epochs = 5\n",
    "\n",
    "for b_m_layers in base_model.layers:\n",
    "    b_m_layers.trainable = False\n"
   ]
  },
  {
   "cell_type": "code",
   "execution_count": 62,
   "id": "ff526de6",
   "metadata": {},
   "outputs": [],
   "source": [
    "from keras.optimizers import SGD\n",
    "\n",
    "opt = SGD(lr=0.0001, momentum=0.9, decay=1e-4/epochs)"
   ]
  },
  {
   "cell_type": "code",
   "execution_count": 63,
   "id": "f879a014",
   "metadata": {},
   "outputs": [],
   "source": [
    "model.compile(loss='categorical_crossentropy', optimizer=opt, metrics=['accuracy'])"
   ]
  },
  {
   "cell_type": "code",
   "execution_count": 64,
   "id": "8f548a4f",
   "metadata": {},
   "outputs": [
    {
     "name": "stdout",
     "output_type": "stream",
     "text": [
      "Epoch 1/5\n",
      "73/73 [==============================] - 612s 8s/step - loss: 0.9861 - accuracy: 0.5106 - val_loss: 0.5287 - val_accuracy: 0.5794\n",
      "Epoch 2/5\n",
      "73/73 [==============================] - 596s 8s/step - loss: 0.7152 - accuracy: 0.6845 - val_loss: 0.7378 - val_accuracy: 0.7487\n",
      "Epoch 3/5\n",
      "73/73 [==============================] - 617s 8s/step - loss: 0.6059 - accuracy: 0.7574 - val_loss: 0.6103 - val_accuracy: 0.8165\n",
      "Epoch 4/5\n",
      "73/73 [==============================] - 604s 8s/step - loss: 0.5433 - accuracy: 0.7989 - val_loss: 0.4743 - val_accuracy: 0.8298\n",
      "Epoch 5/5\n",
      "73/73 [==============================] - 620s 8s/step - loss: 0.4910 - accuracy: 0.8123 - val_loss: 0.5188 - val_accuracy: 0.8644\n"
     ]
    }
   ],
   "source": [
    "history = model.fit_generator(\n",
    "    train_Aug.flow(X_train, Y_train, batch_size=32),\n",
    "    steps_per_epoch=len(X_train)//32,\n",
    "    validation_data=valid_Aug.flow(X_test, Y_test),\n",
    "    validation_steps=len(X_test)//32,\n",
    "    epochs=epochs\n",
    ")\n"
   ]
  },
  {
   "cell_type": "code",
   "execution_count": 65,
   "id": "0967f89d",
   "metadata": {},
   "outputs": [],
   "source": [
    "# Save Model\n",
    "\n",
    "import pickle\n",
    "\n",
    "model.save(output_model)\n",
    "lbinarizer = open(r\"KD_classification_model\\KD_classification_binarizer.pickle\", \"wb\")\n",
    "lbinarizer.write(pickle.dumps(lb))\n",
    "lbinarizer.close()"
   ]
  },
  {
   "cell_type": "code",
   "execution_count": null,
   "id": "5a69bf47",
   "metadata": {},
   "outputs": [],
   "source": []
  }
 ],
 "metadata": {
  "kernelspec": {
   "display_name": "Python 3",
   "language": "python",
   "name": "python3"
  },
  "language_info": {
   "codemirror_mode": {
    "name": "ipython",
    "version": 3
   },
   "file_extension": ".py",
   "mimetype": "text/x-python",
   "name": "python",
   "nbconvert_exporter": "python",
   "pygments_lexer": "ipython3",
   "version": "3.7.3"
  }
 },
 "nbformat": 4,
 "nbformat_minor": 5
}
